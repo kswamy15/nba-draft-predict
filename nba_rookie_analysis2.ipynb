{
 "cells": [
  {
   "cell_type": "markdown",
   "metadata": {},
   "source": [
    "Now that the NBA season is done, we have complete data from this year's NBA rookies. In the past I have tried to predict NBA rookies' future performance using [regression](http://www.danvatterott.com/blog/2016/03/20/predicting-career-performance-from-rookie-performance/) [models](http://www.danvatterott.com/blog/2016/04/08/revisiting-nba-career-predictions-from-rookie-performance/). In this post I am again trying to predict rookies' future performance, but now using using a [classification approach](https://en.wikipedia.org/wiki/Statistical_classification). When using a classification approach, I predict whether player X will be a \"great,\" \"average,\" or \"poor\" player rather than predicting exactly how productive player X will be.\n",
    "\n",
    "Much of this post re-uses code from the previous posts, so I skim over some of the repeated code. \n",
    "\n",
    "As usual, I will post all code as a jupyter notebook on my [github](https://github.com/dvatterott/jupyter_notebooks)."
   ]
  },
  {
   "cell_type": "code",
   "execution_count": 1,
   "metadata": {
    "collapsed": false
   },
   "outputs": [],
   "source": [
    "#import some libraries and tell ipython we want inline figures rather than interactive figures. \n",
    "import matplotlib.pyplot as plt, pandas as pd, numpy as np, matplotlib as mpl\n",
    "\n",
    "from __future__ import print_function\n",
    "\n",
    "%matplotlib inline\n",
    "plt.style.use('ggplot') #im addicted to ggplot. so pretty."
   ]
  },
  {
   "cell_type": "markdown",
   "metadata": {},
   "source": [
    "Load the data. Reminder - this data is available on my [github](https://github.com/dvatterott/nba_project)."
   ]
  },
  {
   "cell_type": "code",
   "execution_count": 2,
   "metadata": {
    "collapsed": false
   },
   "outputs": [],
   "source": [
    "rookie_df = pd.read_pickle('nba/nba_bballref_rookie_stats_2016_Apr_16.pkl') #here's the rookie year data\n",
    "\n",
    "rook_games = rookie_df['Career Games']>50 #only attempting to predict players that have played at least 50 games\n",
    "rook_year = rookie_df['Year']>1980 #only attempting to predict players from after 1980\n",
    "\n",
    "#remove rookies from before 1980 and who have played less than 50 games. I also remove some features that seem irrelevant or unfair\n",
    "rookie_df_games = rookie_df[rook_games & rook_year] #only players with more than 50 games. \n",
    "rookie_df_drop = rookie_df_games.drop(['Year','Career Games','Name'],1)"
   ]
  },
  {
   "cell_type": "markdown",
   "metadata": {},
   "source": [
    "Load more data, and normalize the data for the [PCA transformation](https://en.wikipedia.org/wiki/Principal_component_analysis). "
   ]
  },
  {
   "cell_type": "code",
   "execution_count": 3,
   "metadata": {
    "collapsed": false
   },
   "outputs": [],
   "source": [
    "from sklearn.preprocessing import StandardScaler\n",
    "\n",
    "df = pd.read_pickle('nba/nba_bballref_career_stats_2016_Apr_15.pkl')\n",
    "df = df[df['G']>50]\n",
    "df_drop = df.drop(['Year','Name','G','GS','MP','FG','FGA','FG%','3P','2P','FT','TRB','PTS','ORtg','DRtg','PER','TS%','3PAr','FTr','ORB%','DRB%','TRB%','AST%','STL%','BLK%','TOV%','USG%','OWS','DWS','WS','WS/48','OBPM','DBPM','BPM','VORP'],1)\n",
    "X = df_drop.as_matrix() #take data out of dataframe\n",
    "ScaleModel = StandardScaler().fit(X) #make sure each feature has 0 mean and unit variance. \n",
    "X = ScaleModel.transform(X)"
   ]
  },
  {
   "cell_type": "markdown",
   "metadata": {},
   "source": [
    "In the past I used [k-means](https://en.wikipedia.org/wiki/K-means_clustering) to group players according to their performance (see my post on [grouping players](http://www.danvatterott.com/blog/2016/02/21/grouping-nba-players/) for more info). Here, I use a [gaussian mixture model](https://en.wikipedia.org/wiki/Mixture_model) (GMM) to group the players. I use the GMM model because it assigns each player a \"soft\" label rather than a \"hard\" label. By soft label I mean that a player simultaneously belongs to several groups. For instance, Russell Westbrook belongs to both my \"point guard\" group and my \"scorers\" group. K-means uses hard labels where each player can only belong to one group. I think the GMM model provides a more accurate representation of players, so I've decided to use it in this post. Maybe in a future post I will spend more time describing it. \n",
    "\n",
    "For anyone wondering, the GMM groupings looked pretty similar to the k-means groupings. "
   ]
  },
  {
   "cell_type": "code",
   "execution_count": 4,
   "metadata": {
    "collapsed": false
   },
   "outputs": [],
   "source": [
    "from sklearn.mixture import GMM\n",
    "from sklearn.decomposition import PCA\n",
    "\n",
    "reduced_model = PCA(n_components=5, whiten=True).fit(X)\n",
    "reduced_data = reduced_model.transform(X) #transform data into the 5 PCA components space\n",
    "\n",
    "g = GMM(n_components=6).fit(reduced_data) #6 clusters. like the k-means model\n",
    "new_labels = g.predict(reduced_data)\n",
    "\n",
    "predictions = g.predict_proba(reduced_data) #generate values describing \"how much\" each player belongs to each group \n",
    "for x in np.unique(new_labels):\n",
    "    Label = 'Category%d' % x \n",
    "    df[Label] = predictions[:,x] "
   ]
  },
  {
   "cell_type": "markdown",
   "metadata": {},
   "source": [
    "In this past I have attempted to predict win shares per 48 minutes. I am using win shares as a dependent variable again, but I want to categorize players. \n",
    "\n",
    "Below I create a histogram of players' win shares per 48. \n",
    "\n",
    "I split players into 4 groups which I will refer to as \"bad,\" \"below average,\" \"above average,\" and \"great\": Poor players are the bottom 10% in win shares per 48, Below average are the 10-50th percentiles, Above average and 50-90th percentiles, Great are the top 10%. This assignment scheme is relatively arbitrary; the model performs similarly with different assignment schemes. "
   ]
  },
  {
   "cell_type": "code",
   "execution_count": 5,
   "metadata": {
    "collapsed": false
   },
   "outputs": [
    {
     "data": {
      "text/plain": [
       "[0.096314496314496317,\n",
       " 0.40196560196560199,\n",
       " 0.39950859950859952,\n",
       " 0.10221130221130222]"
      ]
     },
     "execution_count": 5,
     "metadata": {},
     "output_type": "execute_result"
    },
    {
     "data": {
      "image/png": "[encoded data removed]",
      "text/plain": [
       "<matplotlib.figure.Figure at 0x7f59e996b310>"
      ]
     },
     "metadata": {},
     "output_type": "display_data"
    }
   ],
   "source": [
    "plt.hist(df['WS/48']);\n",
    "df['perf_cat'] = 0\n",
    "df.loc[df['WS/48'] < np.percentile(df['WS/48'],10),'perf_cat'] = 1 #category 1 players are bottom 10%\n",
    "df.loc[(df['WS/48'] < np.percentile(df['WS/48'],50)) & (df['WS/48'] >= np.percentile(df['WS/48'],10)),'perf_cat'] = 2\n",
    "df.loc[(df['WS/48'] < np.percentile(df['WS/48'],90)) & (df['WS/48'] >= np.percentile(df['WS/48'],50)),'perf_cat'] = 3\n",
    "df.loc[df['WS/48'] >= np.percentile(df['WS/48'],90),'perf_cat'] = 4 #category 4 players are top 10%\n",
    "perc_in_cat = [np.mean(df['perf_cat']==x) for x in np.unique(df['perf_cat'])];\n",
    "perc_in_cat #print % of palyers in each category as a sanity check"
   ]
  },
  {
   "cell_type": "markdown",
   "metadata": {},
   "source": [
    "My goal is to use rookie year performance to classify players into these 4 categories. I have a big matrix with lots of data about rookie year performance, but the reason that I grouped player using the GMM is because I suspect that players in the different groups have different \"paths\" to success. I am including the groupings in my classification model and computing interaction terms. The interaction terms will allow rookie performance to produce different predictions for the different groups. \n",
    "\n",
    "By including interaction terms, I include quite a few predictor features. I've printed the number of predictor features and the number of predicted players below. "
   ]
  },
  {
   "cell_type": "code",
   "execution_count": 6,
   "metadata": {
    "collapsed": false
   },
   "outputs": [
    {
     "name": "stdout",
     "output_type": "stream",
     "text": [
      "(1703, 1432)\n",
      "(1703,)\n"
     ]
    }
   ],
   "source": [
    "from sklearn import preprocessing\n",
    "\n",
    "df_drop = df[df['Year']>1980]\n",
    "for x in np.unique(new_labels):\n",
    "    Label = 'Category%d' % x \n",
    "    rookie_df_drop[Label] = df_drop[Label] #give rookies the groupings produced by the GMM model\n",
    "\n",
    "X = rookie_df_drop.as_matrix() #take data out of dataframe   \n",
    "    \n",
    "poly = preprocessing.PolynomialFeatures(2,interaction_only=True) #create interaction terms.\n",
    "X = poly.fit_transform(X)\n",
    "\n",
    "Career_data = df[df['Year']>1980]\n",
    "Y = Career_data['perf_cat'] #get predictor data\n",
    "print(np.shape(X))\n",
    "print(np.shape(Y))"
   ]
  },
  {
   "cell_type": "markdown",
   "metadata": {},
   "source": [
    "Now that I have all the features, it's time to try and predict which players will be poor, below average, above average, and great. To create these predictions, I will use a [logistic regression model](https://en.wikipedia.org/wiki/Logistic_regression). \n",
    "\n",
    "Because I have so many predictors, correlation between predicting features and over-fitting the data are major concerns. I use [regularization](http://stats.stackexchange.com/questions/4272/when-to-use-regularization-methods-for-regression) and [cross-validation](https://en.wikipedia.org/wiki/Cross-validation_(statistics)) to combat these issues. \n",
    "\n",
    "Specifically, I am using [l2 regularization](https://en.wikipedia.org/wiki/Tikhonov_regularization) and k-fold 5 cross-validation. Within the cross-validation, I am trying to estimate how much regularization is appropriate. \n",
    "\n",
    "Some important notes - I am using \"balanced\" weights which tells the model that worse to incorrectly predict the poor and great players than the below average and above average players. I do this because I don't want the model to completely ignore the less frequent classifications. Second, I use the multi_class multinomial because it limits the number of models I have to fit. "
   ]
  },
  {
   "cell_type": "code",
   "execution_count": 7,
   "metadata": {
    "collapsed": false,
    "scrolled": true
   },
   "outputs": [
    {
     "name": "stdout",
     "output_type": "stream",
     "text": [
      "0.74398120963\n"
     ]
    }
   ],
   "source": [
    "from sklearn import linear_model\n",
    "from sklearn.metrics import accuracy_score \n",
    "\n",
    "logreg = linear_model.LogisticRegressionCV(Cs=[0.0008], cv=5, penalty='l2',n_jobs=-1, class_weight='balanced', \n",
    "                                           max_iter=15000, multi_class='multinomial')\n",
    "      \n",
    "est = logreg.fit(X, Y)\n",
    "score = accuracy_score(Y,est.predict(X)) #calculate the % correct \n",
    "print(score)"
   ]
  },
  {
   "cell_type": "code",
   "execution_count": 8,
   "metadata": {
    "collapsed": false
   },
   "outputs": [
    {
     "data": {
      "text/plain": [
       "array([[ -1.05870807e-05,  -1.28221968e-04,  -4.19771427e-05, ...,\n",
       "         -1.72498634e-05,   1.29706001e-05,  -1.41648879e-05],\n",
       "       [  1.30563687e-05,   1.06377534e-04,   4.50958451e-04, ...,\n",
       "         -3.20193240e-05,  -3.42511408e-05,   2.40662680e-05],\n",
       "       [  1.72550869e-05,   1.92504540e-04,   9.22952518e-05, ...,\n",
       "         -3.00713309e-06,  -3.32536118e-05,   5.07696996e-06],\n",
       "       [ -1.97243749e-05,  -1.70660106e-04,  -5.01276560e-04, ...,\n",
       "          5.22763205e-05,   5.45341525e-05,  -1.49783501e-05]])"
      ]
     },
     "execution_count": 8,
     "metadata": {},
     "output_type": "execute_result"
    }
   ],
   "source": [
    "est.coef_"
   ]
  },
  {
   "cell_type": "markdown",
   "metadata": {},
   "source": [
    "Okay, the model did pretty well, but lets look at where the errors are coming from. To visualize the models accuracy, I am using a [confusion matrix](https://en.wikipedia.org/wiki/Confusion_matrix). In a confusion matrix, every item on the diagnonal is a correctly classified item. Every item off the diagonal is incorrectly classified. The color bar's axis is the percent correct. So the dark blue squares represent cells with more items. \n",
    "\n",
    "It seems the model is best at predicting poor players and great players. It makes more errors when trying to predict the more average players. "
   ]
  },
  {
   "cell_type": "code",
   "execution_count": 9,
   "metadata": {
    "collapsed": false
   },
   "outputs": [
    {
     "data": {
      "image/png": "[encoded data removed]",
      "text/plain": [
       "<matplotlib.figure.Figure at 0x7f59e9951b90>"
      ]
     },
     "metadata": {},
     "output_type": "display_data"
    }
   ],
   "source": [
    "from sklearn.metrics import confusion_matrix\n",
    "cm = confusion_matrix(Y, est.predict(X))\n",
    "\n",
    "def plot_confusion_matrix(cm, title='Confusion matrix', cmap=plt.cm.Blues):\n",
    "    plt.imshow(cm, interpolation='nearest', cmap=cmap,vmin=0.0, vmax=1.0)\n",
    "    plt.title(title)\n",
    "    plt.colorbar()\n",
    "    tick_marks = np.arange(len(np.unique(df['perf_cat'])))\n",
    "    plt.xticks(tick_marks, np.unique(df['perf_cat']))\n",
    "    plt.yticks(tick_marks, np.unique(df['perf_cat']))\n",
    "    plt.tight_layout()\n",
    "    plt.ylabel('True label')\n",
    "    plt.xlabel('Predicted label')\n",
    "    \n",
    "cm_normalized = cm.astype('float') / cm.sum(axis=1)[:, np.newaxis]\n",
    "plot_confusion_matrix(cm_normalized, title='Normalized confusion matrix')"
   ]
  },
  {
   "cell_type": "code",
   "execution_count": 10,
   "metadata": {
    "collapsed": false
   },
   "outputs": [
    {
     "data": {
      "text/plain": [
       "array([[167,   9,   0,   0],\n",
       "       [ 82, 507, 104,  18],\n",
       "       [  7, 107, 443,  91],\n",
       "       [  1,   4,  13, 150]])"
      ]
     },
     "execution_count": 10,
     "metadata": {},
     "output_type": "execute_result"
    }
   ],
   "source": [
    "cm"
   ]
  },
  {
   "cell_type": "markdown",
   "metadata": {},
   "source": [
    "Lets look at what the model predicts for this year's rookies. Below I modified two functions that I wrote for a previous post. The first function finds a particular year's draft picks. The second function produces predictions for each draft pick."
   ]
  },
  {
   "cell_type": "code",
   "execution_count": 11,
   "metadata": {
    "collapsed": true
   },
   "outputs": [],
   "source": [
    "def gather_draftData(Year):\n",
    "\n",
    "    import urllib2\n",
    "    from bs4 import BeautifulSoup\n",
    "    import pandas as pd\n",
    "    import numpy as np\n",
    "\n",
    "    draft_len = 30\n",
    "\n",
    "    def convert_float(val):\n",
    "        try:\n",
    "            return float(val)\n",
    "        except ValueError:\n",
    "            return np.nan\n",
    "\n",
    "    url = 'http://www.basketball-reference.com/draft/NBA_'+str(Year)+'.html'\n",
    "    html = urllib2.urlopen(url)\n",
    "    soup = BeautifulSoup(html,\"lxml\")\n",
    "\n",
    "    draft_num = [soup.findAll('tbody')[0].findAll('tr')[i].findAll('td')[0].text for i in range(draft_len)]\n",
    "    draft_nam = [soup.findAll('tbody')[0].findAll('tr')[i].findAll('td')[3].text for i in range(draft_len)]\n",
    "\n",
    "    draft_df = pd.DataFrame([draft_num,draft_nam]).T\n",
    "    draft_df.columns = ['Number','Name']\n",
    "    df.index = range(np.size(df,0))\n",
    "    return draft_df\n",
    "\n",
    "def player_prediction__regressionModel(PlayerName):\n",
    "\n",
    "    clust_df = pd.read_pickle('nba/nba_bballref_career_stats_2016_Apr_15.pkl')\n",
    "    clust_df = clust_df[clust_df['Name']==PlayerName]\n",
    "    clust_df = clust_df.drop(['Year','Name','G','GS','MP','FG','FGA','FG%','3P','2P','FT','TRB','PTS','ORtg','DRtg','PER','TS%','3PAr','FTr','ORB%','DRB%','TRB%','AST%','STL%','BLK%','TOV%','USG%','OWS','DWS','WS','WS/48','OBPM','DBPM','BPM','VORP'],1)\n",
    "    new_vect = ScaleModel.transform(clust_df.as_matrix().reshape(1,-1))\n",
    "    reduced_data = reduced_model.transform(new_vect)\n",
    "    predictions = g.predict_proba(reduced_data)\n",
    "    for x in np.unique(new_labels):\n",
    "        Label = 'Category%d' % x \n",
    "        clust_df[Label] = predictions[:,x] \n",
    "\n",
    "    Predrookie_df = pd.read_pickle('nba/nba_bballref_rookie_stats_2016_Apr_16.pkl')\n",
    "    Predrookie_df = Predrookie_df[Predrookie_df['Name']==PlayerName]\n",
    "    Predrookie_df = Predrookie_df.drop(['Year','Career Games','Name'],1)\n",
    "    for x in np.unique(new_labels):\n",
    "        Label = 'Category%d' % x \n",
    "        Predrookie_df[Label] = clust_df[Label] #give rookies the groupings produced by the GMM model\n",
    "    predX = Predrookie_df.as_matrix() #take data out of dataframe\n",
    "    predX = poly.fit_transform(predX)\n",
    "    predictions2 = est.predict_proba(predX)\n",
    "    return {'Name':PlayerName,'Group':predictions,'Prediction':predictions2[0]}"
   ]
  },
  {
   "cell_type": "markdown",
   "metadata": {},
   "source": [
    "Below I create a plot depicting the model's predictions. On the y-axis are the four classifications. On the x-axis are the players from the 2015 draft. Each cell in the plot is the probability of a player belonging to one of the classifications. Again, dark blue means a cell or more likely. Good news for us T-Wolves fans! The model loves KAT. "
   ]
  },
  {
   "cell_type": "code",
   "execution_count": 12,
   "metadata": {
    "collapsed": false
   },
   "outputs": [
    {
     "data": {
      "image/png": "[encoded data removed]",
      "text/plain": [
       "<matplotlib.figure.Figure at 0x7f59e96eb790>"
      ]
     },
     "metadata": {},
     "output_type": "display_data"
    }
   ],
   "source": [
    "draft_df = gather_draftData(2015)\n",
    "\n",
    "draft_df['Name'][14] =  'Kelly Oubre Jr.' #annoying name inconsistencies \n",
    "\n",
    "plt.subplots(figsize=(14,6));\n",
    "\n",
    "draft_df = draft_df.drop(25, 0) #spurs' 1st round pick has not played yet\n",
    "\n",
    "predictions = []\n",
    "for name in draft_df['Name']:\n",
    "    draft_num = draft_df[draft_df['Name']==name]['Number']\n",
    "    predict_dict = player_prediction__regressionModel(name)\n",
    "    predictions.append(predict_dict['Prediction'])\n",
    "    \n",
    "plt.imshow(np.array(predictions).T, interpolation='nearest', cmap=plt.cm.Blues,vmin=0.0, vmax=1.0)\n",
    "plt.title('Predicting Future Performance of 2015-16 Rookies')\n",
    "plt.colorbar(shrink=0.25)\n",
    "tick_marks = np.arange(len(np.unique(df['perf_cat'])))\n",
    "plt.xticks(range(0,29),draft_df['Name'],rotation=90)\n",
    "plt.yticks(range(0,4), ['Poor','Below Average','Above Average','Great'])\n",
    "plt.tight_layout()\n",
    "plt.ylabel('Prediction')\n",
    "plt.xlabel('Draft Position');"
   ]
  },
  {
   "cell_type": "code",
   "execution_count": 13,
   "metadata": {
    "collapsed": false
   },
   "outputs": [
    {
     "data": {
      "text/plain": [
       "{'Group': array([[  1.28360145e-10,   6.78132141e-01,   2.68364463e-01,\n",
       "           5.35023327e-02,   1.06311569e-06,   8.58862383e-19]]),\n",
       " 'Name': u'Kevon Looney',\n",
       " 'Prediction': array([  1.24089777e-09,   6.87112038e-01,   3.12876463e-01,\n",
       "          1.14983019e-05])}"
      ]
     },
     "execution_count": 13,
     "metadata": {},
     "output_type": "execute_result"
    }
   ],
   "source": [
    "predict_dict"
   ]
  },
  {
   "cell_type": "code",
   "execution_count": 15,
   "metadata": {
    "collapsed": false
   },
   "outputs": [],
   "source": [
    "draft_df['Name'].to_csv('nba_draft_names.csv')"
   ]
  },
  {
   "cell_type": "code",
   "execution_count": 21,
   "metadata": {
    "collapsed": false
   },
   "outputs": [
    {
     "data": {
      "text/html": [
       "<div>\n",
       "<table border=\"1\" class=\"dataframe\">\n",
       "  <thead>\n",
       "    <tr style=\"text-align: right;\">\n",
       "      <th></th>\n",
       "      <th>0</th>\n",
       "      <th>1</th>\n",
       "      <th>2</th>\n",
       "      <th>3</th>\n",
       "    </tr>\n",
       "    <tr>\n",
       "      <th>Name</th>\n",
       "      <th></th>\n",
       "      <th></th>\n",
       "      <th></th>\n",
       "      <th></th>\n",
       "    </tr>\n",
       "  </thead>\n",
       "  <tbody>\n",
       "    <tr>\n",
       "      <th>Karl-Anthony Towns</th>\n",
       "      <td>2.633485e-32</td>\n",
       "      <td>3.542443e-09</td>\n",
       "      <td>5.741257e-06</td>\n",
       "      <td>9.999943e-01</td>\n",
       "    </tr>\n",
       "    <tr>\n",
       "      <th>D'Angelo Russell</th>\n",
       "      <td>9.232835e-01</td>\n",
       "      <td>4.896650e-02</td>\n",
       "      <td>2.773871e-02</td>\n",
       "      <td>1.127998e-05</td>\n",
       "    </tr>\n",
       "    <tr>\n",
       "      <th>Jahlil Okafor</th>\n",
       "      <td>2.973934e-01</td>\n",
       "      <td>2.435993e-01</td>\n",
       "      <td>4.518458e-01</td>\n",
       "      <td>7.161466e-03</td>\n",
       "    </tr>\n",
       "    <tr>\n",
       "      <th>Kristaps Porzingis</th>\n",
       "      <td>8.397272e-20</td>\n",
       "      <td>9.223810e-06</td>\n",
       "      <td>2.090147e-02</td>\n",
       "      <td>9.790893e-01</td>\n",
       "    </tr>\n",
       "    <tr>\n",
       "      <th>Mario Hezonja</th>\n",
       "      <td>2.194004e-02</td>\n",
       "      <td>8.245541e-01</td>\n",
       "      <td>7.268120e-02</td>\n",
       "      <td>8.082470e-02</td>\n",
       "    </tr>\n",
       "    <tr>\n",
       "      <th>Willie Cauley-Stein</th>\n",
       "      <td>7.933458e-12</td>\n",
       "      <td>1.328758e-03</td>\n",
       "      <td>4.255889e-01</td>\n",
       "      <td>5.730823e-01</td>\n",
       "    </tr>\n",
       "    <tr>\n",
       "      <th>Emmanuel Mudiay</th>\n",
       "      <td>9.842721e-01</td>\n",
       "      <td>1.564085e-02</td>\n",
       "      <td>8.706128e-05</td>\n",
       "      <td>1.078438e-21</td>\n",
       "    </tr>\n",
       "    <tr>\n",
       "      <th>Stanley Johnson</th>\n",
       "      <td>5.881348e-03</td>\n",
       "      <td>8.211375e-01</td>\n",
       "      <td>1.729058e-01</td>\n",
       "      <td>7.538813e-05</td>\n",
       "    </tr>\n",
       "    <tr>\n",
       "      <th>Frank Kaminsky</th>\n",
       "      <td>5.564819e-07</td>\n",
       "      <td>1.466050e-01</td>\n",
       "      <td>4.775813e-01</td>\n",
       "      <td>3.758131e-01</td>\n",
       "    </tr>\n",
       "    <tr>\n",
       "      <th>Justise Winslow</th>\n",
       "      <td>1.503421e-05</td>\n",
       "      <td>7.292019e-01</td>\n",
       "      <td>2.008403e-01</td>\n",
       "      <td>6.994271e-02</td>\n",
       "    </tr>\n",
       "    <tr>\n",
       "      <th>Myles Turner</th>\n",
       "      <td>3.768901e-06</td>\n",
       "      <td>5.363391e-02</td>\n",
       "      <td>7.371922e-01</td>\n",
       "      <td>2.091701e-01</td>\n",
       "    </tr>\n",
       "    <tr>\n",
       "      <th>Trey Lyles</th>\n",
       "      <td>8.515048e-08</td>\n",
       "      <td>3.499693e-01</td>\n",
       "      <td>6.489859e-01</td>\n",
       "      <td>1.044763e-03</td>\n",
       "    </tr>\n",
       "    <tr>\n",
       "      <th>Devin Booker</th>\n",
       "      <td>1.498384e-05</td>\n",
       "      <td>5.094665e-01</td>\n",
       "      <td>4.841291e-01</td>\n",
       "      <td>6.389457e-03</td>\n",
       "    </tr>\n",
       "    <tr>\n",
       "      <th>Cameron Payne</th>\n",
       "      <td>4.654943e-05</td>\n",
       "      <td>1.535393e-01</td>\n",
       "      <td>7.245375e-01</td>\n",
       "      <td>1.218767e-01</td>\n",
       "    </tr>\n",
       "    <tr>\n",
       "      <th>Kelly Oubre Jr.</th>\n",
       "      <td>2.126374e-01</td>\n",
       "      <td>7.092683e-01</td>\n",
       "      <td>7.808983e-02</td>\n",
       "      <td>4.527024e-06</td>\n",
       "    </tr>\n",
       "    <tr>\n",
       "      <th>Terry Rozier</th>\n",
       "      <td>9.951780e-01</td>\n",
       "      <td>4.815873e-03</td>\n",
       "      <td>6.083185e-06</td>\n",
       "      <td>1.567071e-12</td>\n",
       "    </tr>\n",
       "    <tr>\n",
       "      <th>Rashad Vaughn</th>\n",
       "      <td>9.999998e-01</td>\n",
       "      <td>2.001447e-07</td>\n",
       "      <td>1.025315e-11</td>\n",
       "      <td>1.246226e-21</td>\n",
       "    </tr>\n",
       "    <tr>\n",
       "      <th>Sam Dekker</th>\n",
       "      <td>5.341758e-01</td>\n",
       "      <td>2.632801e-08</td>\n",
       "      <td>4.609840e-01</td>\n",
       "      <td>4.840165e-03</td>\n",
       "    </tr>\n",
       "    <tr>\n",
       "      <th>Jerian Grant</th>\n",
       "      <td>1.258888e-01</td>\n",
       "      <td>6.296557e-01</td>\n",
       "      <td>1.808683e-01</td>\n",
       "      <td>6.358721e-02</td>\n",
       "    </tr>\n",
       "    <tr>\n",
       "      <th>Delon Wright</th>\n",
       "      <td>4.720984e-02</td>\n",
       "      <td>3.480409e-01</td>\n",
       "      <td>2.720429e-01</td>\n",
       "      <td>3.327064e-01</td>\n",
       "    </tr>\n",
       "    <tr>\n",
       "      <th>Justin Anderson</th>\n",
       "      <td>2.860470e-03</td>\n",
       "      <td>2.900870e-01</td>\n",
       "      <td>5.113130e-01</td>\n",
       "      <td>1.957396e-01</td>\n",
       "    </tr>\n",
       "    <tr>\n",
       "      <th>Bobby Portis</th>\n",
       "      <td>8.982682e-06</td>\n",
       "      <td>1.926795e-01</td>\n",
       "      <td>7.551920e-01</td>\n",
       "      <td>5.211960e-02</td>\n",
       "    </tr>\n",
       "    <tr>\n",
       "      <th>Rondae Hollis-Jefferson</th>\n",
       "      <td>5.843087e-07</td>\n",
       "      <td>3.477377e-02</td>\n",
       "      <td>1.992164e-01</td>\n",
       "      <td>7.660093e-01</td>\n",
       "    </tr>\n",
       "    <tr>\n",
       "      <th>Tyus Jones</th>\n",
       "      <td>9.240813e-01</td>\n",
       "      <td>3.886282e-02</td>\n",
       "      <td>3.658352e-02</td>\n",
       "      <td>4.724007e-04</td>\n",
       "    </tr>\n",
       "    <tr>\n",
       "      <th>Jarell Martin</th>\n",
       "      <td>8.482738e-04</td>\n",
       "      <td>3.571902e-01</td>\n",
       "      <td>5.081476e-01</td>\n",
       "      <td>1.338139e-01</td>\n",
       "    </tr>\n",
       "    <tr>\n",
       "      <th>Larry Nance Jr.</th>\n",
       "      <td>1.560763e-06</td>\n",
       "      <td>1.780421e-01</td>\n",
       "      <td>7.461470e-01</td>\n",
       "      <td>7.580927e-02</td>\n",
       "    </tr>\n",
       "    <tr>\n",
       "      <th>R.J. Hunter</th>\n",
       "      <td>6.831337e-02</td>\n",
       "      <td>5.814053e-01</td>\n",
       "      <td>3.292987e-01</td>\n",
       "      <td>2.098261e-02</td>\n",
       "    </tr>\n",
       "    <tr>\n",
       "      <th>Chris McCullough</th>\n",
       "      <td>6.183703e-01</td>\n",
       "      <td>3.762104e-01</td>\n",
       "      <td>5.419265e-03</td>\n",
       "      <td>4.542963e-08</td>\n",
       "    </tr>\n",
       "    <tr>\n",
       "      <th>Kevon Looney</th>\n",
       "      <td>1.240898e-09</td>\n",
       "      <td>6.871120e-01</td>\n",
       "      <td>3.128765e-01</td>\n",
       "      <td>1.149830e-05</td>\n",
       "    </tr>\n",
       "  </tbody>\n",
       "</table>\n",
       "</div>"
      ],
      "text/plain": [
       "                                    0             1             2  \\\n",
       "Name                                                                \n",
       "Karl-Anthony Towns       2.633485e-32  3.542443e-09  5.741257e-06   \n",
       "D'Angelo Russell         9.232835e-01  4.896650e-02  2.773871e-02   \n",
       "Jahlil Okafor            2.973934e-01  2.435993e-01  4.518458e-01   \n",
       "Kristaps Porzingis       8.397272e-20  9.223810e-06  2.090147e-02   \n",
       "Mario Hezonja            2.194004e-02  8.245541e-01  7.268120e-02   \n",
       "Willie Cauley-Stein      7.933458e-12  1.328758e-03  4.255889e-01   \n",
       "Emmanuel Mudiay          9.842721e-01  1.564085e-02  8.706128e-05   \n",
       "Stanley Johnson          5.881348e-03  8.211375e-01  1.729058e-01   \n",
       "Frank Kaminsky           5.564819e-07  1.466050e-01  4.775813e-01   \n",
       "Justise Winslow          1.503421e-05  7.292019e-01  2.008403e-01   \n",
       "Myles Turner             3.768901e-06  5.363391e-02  7.371922e-01   \n",
       "Trey Lyles               8.515048e-08  3.499693e-01  6.489859e-01   \n",
       "Devin Booker             1.498384e-05  5.094665e-01  4.841291e-01   \n",
       "Cameron Payne            4.654943e-05  1.535393e-01  7.245375e-01   \n",
       "Kelly Oubre Jr.          2.126374e-01  7.092683e-01  7.808983e-02   \n",
       "Terry Rozier             9.951780e-01  4.815873e-03  6.083185e-06   \n",
       "Rashad Vaughn            9.999998e-01  2.001447e-07  1.025315e-11   \n",
       "Sam Dekker               5.341758e-01  2.632801e-08  4.609840e-01   \n",
       "Jerian Grant             1.258888e-01  6.296557e-01  1.808683e-01   \n",
       "Delon Wright             4.720984e-02  3.480409e-01  2.720429e-01   \n",
       "Justin Anderson          2.860470e-03  2.900870e-01  5.113130e-01   \n",
       "Bobby Portis             8.982682e-06  1.926795e-01  7.551920e-01   \n",
       "Rondae Hollis-Jefferson  5.843087e-07  3.477377e-02  1.992164e-01   \n",
       "Tyus Jones               9.240813e-01  3.886282e-02  3.658352e-02   \n",
       "Jarell Martin            8.482738e-04  3.571902e-01  5.081476e-01   \n",
       "Larry Nance Jr.          1.560763e-06  1.780421e-01  7.461470e-01   \n",
       "R.J. Hunter              6.831337e-02  5.814053e-01  3.292987e-01   \n",
       "Chris McCullough         6.183703e-01  3.762104e-01  5.419265e-03   \n",
       "Kevon Looney             1.240898e-09  6.871120e-01  3.128765e-01   \n",
       "\n",
       "                                    3  \n",
       "Name                                   \n",
       "Karl-Anthony Towns       9.999943e-01  \n",
       "D'Angelo Russell         1.127998e-05  \n",
       "Jahlil Okafor            7.161466e-03  \n",
       "Kristaps Porzingis       9.790893e-01  \n",
       "Mario Hezonja            8.082470e-02  \n",
       "Willie Cauley-Stein      5.730823e-01  \n",
       "Emmanuel Mudiay          1.078438e-21  \n",
       "Stanley Johnson          7.538813e-05  \n",
       "Frank Kaminsky           3.758131e-01  \n",
       "Justise Winslow          6.994271e-02  \n",
       "Myles Turner             2.091701e-01  \n",
       "Trey Lyles               1.044763e-03  \n",
       "Devin Booker             6.389457e-03  \n",
       "Cameron Payne            1.218767e-01  \n",
       "Kelly Oubre Jr.          4.527024e-06  \n",
       "Terry Rozier             1.567071e-12  \n",
       "Rashad Vaughn            1.246226e-21  \n",
       "Sam Dekker               4.840165e-03  \n",
       "Jerian Grant             6.358721e-02  \n",
       "Delon Wright             3.327064e-01  \n",
       "Justin Anderson          1.957396e-01  \n",
       "Bobby Portis             5.211960e-02  \n",
       "Rondae Hollis-Jefferson  7.660093e-01  \n",
       "Tyus Jones               4.724007e-04  \n",
       "Jarell Martin            1.338139e-01  \n",
       "Larry Nance Jr.          7.580927e-02  \n",
       "R.J. Hunter              2.098261e-02  \n",
       "Chris McCullough         4.542963e-08  \n",
       "Kevon Looney             1.149830e-05  "
      ]
     },
     "execution_count": 21,
     "metadata": {},
     "output_type": "execute_result"
    }
   ],
   "source": [
    "pd.DataFrame(predictions,index = draft_df['Name'])"
   ]
  },
  {
   "cell_type": "code",
   "execution_count": 18,
   "metadata": {
    "collapsed": false
   },
   "outputs": [
    {
     "data": {
      "text/plain": [
       "[array([  2.63348531e-32,   3.54244256e-09,   5.74125739e-06,\n",
       "          9.99994255e-01]),\n",
       " array([  9.23283508e-01,   4.89665005e-02,   2.77387120e-02,\n",
       "          1.12799844e-05]),\n",
       " array([ 0.29739343,  0.24359934,  0.45184576,  0.00716147]),\n",
       " array([  8.39727218e-20,   9.22380954e-06,   2.09014653e-02,\n",
       "          9.79089311e-01]),\n",
       " array([ 0.02194004,  0.82455406,  0.0726812 ,  0.0808247 ]),\n",
       " array([  7.93345845e-12,   1.32875811e-03,   4.25588942e-01,\n",
       "          5.73082300e-01]),\n",
       " array([  9.84272085e-01,   1.56408541e-02,   8.70612756e-05,\n",
       "          1.07843756e-21]),\n",
       " array([  5.88134794e-03,   8.21137501e-01,   1.72905763e-01,\n",
       "          7.53881349e-05]),\n",
       " array([  5.56481854e-07,   1.46605014e-01,   4.77581338e-01,\n",
       "          3.75813092e-01]),\n",
       " array([  1.50342076e-05,   7.29201945e-01,   2.00840312e-01,\n",
       "          6.99427090e-02]),\n",
       " array([  3.76890106e-06,   5.36339144e-02,   7.37192249e-01,\n",
       "          2.09170068e-01]),\n",
       " array([  8.51504831e-08,   3.49969300e-01,   6.48985851e-01,\n",
       "          1.04476325e-03]),\n",
       " array([  1.49838432e-05,   5.09466491e-01,   4.84129067e-01,\n",
       "          6.38945738e-03]),\n",
       " array([  4.65494312e-05,   1.53539268e-01,   7.24537504e-01,\n",
       "          1.21876679e-01]),\n",
       " array([  2.12637359e-01,   7.09268280e-01,   7.80898332e-02,\n",
       "          4.52702433e-06]),\n",
       " array([  9.95178044e-01,   4.81587285e-03,   6.08318511e-06,\n",
       "          1.56707127e-12]),\n",
       " array([  9.99999800e-01,   2.00144722e-07,   1.02531510e-11,\n",
       "          1.24622569e-21]),\n",
       " array([  5.34175760e-01,   2.63280132e-08,   4.60984049e-01,\n",
       "          4.84016458e-03]),\n",
       " array([ 0.12588884,  0.62965566,  0.18086829,  0.06358721]),\n",
       " array([ 0.04720984,  0.34804085,  0.27204287,  0.33270644]),\n",
       " array([ 0.00286047,  0.29008695,  0.51131298,  0.1957396 ]),\n",
       " array([  8.98268240e-06,   1.92679457e-01,   7.55191959e-01,\n",
       "          5.21196013e-02]),\n",
       " array([  5.84308655e-07,   3.47737696e-02,   1.99216391e-01,\n",
       "          7.66009255e-01]),\n",
       " array([  9.24081260e-01,   3.88628222e-02,   3.65835169e-02,\n",
       "          4.72400700e-04]),\n",
       " array([ 0.00084827,  0.35719015,  0.50814764,  0.13381393]),\n",
       " array([  1.56076340e-06,   1.78042121e-01,   7.46147044e-01,\n",
       "          7.58092744e-02]),\n",
       " array([ 0.06831337,  0.58140534,  0.32929868,  0.02098261]),\n",
       " array([  6.18370328e-01,   3.76210361e-01,   5.41926488e-03,\n",
       "          4.54296297e-08]),\n",
       " array([  1.24089777e-09,   6.87112038e-01,   3.12876463e-01,\n",
       "          1.14983019e-05])]"
      ]
     },
     "execution_count": 18,
     "metadata": {},
     "output_type": "execute_result"
    }
   ],
   "source": [
    "predictions"
   ]
  },
  {
   "cell_type": "code",
   "execution_count": null,
   "metadata": {
    "collapsed": true
   },
   "outputs": [],
   "source": []
  }
 ],
 "metadata": {
  "kernelspec": {
   "display_name": "Python 2",
   "language": "python",
   "name": "python2"
  },
  "language_info": {
   "codemirror_mode": {
    "name": "ipython",
    "version": 2
   },
   "file_extension": ".py",
   "mimetype": "text/x-python",
   "name": "python",
   "nbconvert_exporter": "python",
   "pygments_lexer": "ipython2",
   "version": "2.7.12"
  }
 },
 "nbformat": 4,
 "nbformat_minor": 0
}
